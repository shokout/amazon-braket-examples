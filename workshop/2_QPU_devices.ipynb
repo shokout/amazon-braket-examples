{
 "cells": [
  {
   "cell_type": "markdown",
   "metadata": {},
   "source": [
    "# 量子デバイス（QPU）の特性の違いを理解する\n",
    "それぞれのデバイスでは、使えるゲートが異なります。IonQ, Rigetti については、前述のCirc() オペレータによる\n",
    "量子コンピュータの１ビット２ビット量子操作が可能です。"
   ]
  },
  {
   "cell_type": "markdown",
   "metadata": {},
   "source": [
    "## SV1 でできる回路演算について\n",
    "サポートしている演算（ユニタリーオペレータ）を表示します"
   ]
  },
  {
   "cell_type": "code",
   "execution_count": null,
   "metadata": {},
   "outputs": [],
   "source": [
    "from braket.circuits import Gate\n",
    "from braket.aws import AwsDevice\n",
    "import string\n",
    "\n",
    "# print all (the usual suspects) available gates currently available within SDK\n",
    "gate_set = [attr for attr in dir(Gate) if attr[0] in string.ascii_uppercase]\n",
    "print('Gate set supported by SDK:\\n', gate_set)\n",
    "print('\\n') "
   ]
  },
  {
   "cell_type": "markdown",
   "metadata": {},
   "source": [
    "---\n",
    "## IonQ について\n",
    "IonQ は、イオントラップという原理で作られた11量子ビットで構成されるデバイスです。\n",
    "\n",
    "デバイスタイプとして、Rigetti の ARN `arn:aws:braket:::device/qpu/ionq/ionQdevice` を指定し、このデバイスで利用できる量子ゲートのタイプと、量子ビット間の結合（トポロジー）について調べてみます。"
   ]
  },
  {
   "cell_type": "code",
   "execution_count": null,
   "metadata": {},
   "outputs": [],
   "source": [
    "# import the device module\n",
    "from braket.aws import AwsDevice\n",
    "\n",
    "device = AwsDevice(\"arn:aws:braket:::device/qpu/ionq/ionQdevice\")\n",
    "\n",
    "# get device name\n",
    "device_name = device.name\n",
    "# show supportedQuantumOperations (supported gates for a device)\n",
    "device_operations = device.properties.dict()['action']['braket.ir.jaqcd.program']['supportedOperations']\n",
    "print('Quantum Gates supported by {}:\\n {}'.format(device_name, device_operations))"
   ]
  },
  {
   "cell_type": "code",
   "execution_count": null,
   "metadata": {},
   "outputs": [],
   "source": [
    "# take a look at the device connectivity graph\n",
    "device.properties.dict()['paradigm']['connectivity']"
   ]
  },
  {
   "cell_type": "markdown",
   "metadata": {},
   "source": [
    "IonQ は、11量子ビットがのそれぞれの量子ビットがそれ以外の全ての量子ビットと結合している、いわゆる全結合のトポロジーとなっています。そのため、任意の２量子ビットに対して、それぞれのデバイスに対してゲート操作が可能です。"
   ]
  },
  {
   "cell_type": "markdown",
   "metadata": {},
   "source": [
    "---\n",
    "## Rigetti について\n",
    "Rigetti は、37量子ビットの超伝導デバイスで構成されています。\n",
    "\n",
    "デバイスタイプとして、Rigetti の ARN `arn:aws:braket:::device/qpu/rigetti/Aspen-8` を指定します。"
   ]
  },
  {
   "cell_type": "code",
   "execution_count": null,
   "metadata": {},
   "outputs": [],
   "source": [
    "device = AwsDevice(\"arn:aws:braket:::device/qpu/rigetti/Aspen-8\")\n",
    "\n",
    "# get device name\n",
    "device_name = device.name\n",
    "# show supportedQuantumOperations (supported gates for a device)\n",
    "device_operations = device.properties.dict()['action']['braket.ir.jaqcd.program']['supportedOperations']\n",
    "print('Quantum Gates supported by {}:\\n {}'.format(device.name, device_operations))"
   ]
  },
  {
   "cell_type": "code",
   "execution_count": null,
   "metadata": {},
   "outputs": [],
   "source": [
    "# take a look at the device connectivity graph\n",
    "device.properties.dict()['paradigm']['connectivity']"
   ]
  },
  {
   "cell_type": "markdown",
   "metadata": {},
   "source": [
    "上記のように、Rigetti は 37量子ビットがそれぞれ、２量子ビット、または３量子ビットに対して結合していることがわかります。この結合規則を見ながら、操作可能な量子ゲートをプログラミングして量子計算を実施する必要があります。"
   ]
  },
  {
   "cell_type": "markdown",
   "metadata": {},
   "source": [
    "---\n",
    "\n",
    "## D-Waveについて\n",
    "\n",
    "量子アニーラは、組合せ最適化の問題、特に2次制約なし最適化（QUBO）のクラスに属する問題を解決するために設計された特殊用途の量子コンピューターです。 Amazon Braketを使用すると、Braket-Oceanプラグインを介してD-WaveのOceanソフトウェアを使用してD-WaveQPUをネイティブにプログラムできます。\n",
    "\n",
    "Amazon Braket ノートブックインスタンスには、Ocean と Braket-Ocean プラグインがプリインストールされています。"
   ]
  },
  {
   "cell_type": "markdown",
   "metadata": {},
   "source": [
    "### D-Wave 2000Q\n",
    "ARN `'arn:aws:braket:::device/qpu/d-wave/DW_2000Q_6'` を指定します。"
   ]
  },
  {
   "cell_type": "code",
   "execution_count": null,
   "metadata": {
    "scrolled": true
   },
   "outputs": [],
   "source": [
    "device = AwsDevice('arn:aws:braket:::device/qpu/d-wave/DW_2000Q_6')\n",
    "\n",
    "# take a look at the device connectivity graph\n",
    "topology = device.properties.dict()['provider']['topology']\n",
    "qubit_number = device.properties.dict()['provider']['qubitCount']\n",
    "print(topology)\n",
    "print('qubit number = ', qubit_number)"
   ]
  },
  {
   "cell_type": "markdown",
   "metadata": {},
   "source": [
    "### D-Wave the Advantage\n",
    "ARN `arn:aws:braket:::device/qpu/d-wave/Advantage_system1` を指定します。"
   ]
  },
  {
   "cell_type": "code",
   "execution_count": null,
   "metadata": {
    "scrolled": true
   },
   "outputs": [],
   "source": [
    "device = AwsDevice('arn:aws:braket:::device/qpu/d-wave/Advantage_system1')\n",
    "\n",
    "topology = device.properties.dict()['provider']['topology']\n",
    "qubit_number = device.properties.dict()['provider']['qubitCount']\n",
    "print(topology)\n",
    "print('qubit number = ', qubit_number)"
   ]
  },
  {
   "cell_type": "markdown",
   "metadata": {},
   "source": [
    "---\n",
    "\n",
    "これで、QPUのそれぞれの特性を知ることができました。それぞれのQPUのデバイス特性を意識しながら、量子計算のコードを書いていきましょう。"
   ]
  }
 ],
 "metadata": {
  "kernelspec": {
   "display_name": "conda_braket",
   "language": "python",
   "name": "conda_braket"
  },
  "language_info": {
   "codemirror_mode": {
    "name": "ipython",
    "version": 3
   },
   "file_extension": ".py",
   "mimetype": "text/x-python",
   "name": "python",
   "nbconvert_exporter": "python",
   "pygments_lexer": "ipython3",
   "version": "3.7.7"
  }
 },
 "nbformat": 4,
 "nbformat_minor": 4
}
